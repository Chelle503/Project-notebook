{
 "metadata": {
  "language_info": {
   "codemirror_mode": {
    "name": "ipython",
    "version": 3
   },
   "file_extension": ".py",
   "mimetype": "text/x-python",
   "name": "python",
   "nbconvert_exporter": "python",
   "pygments_lexer": "ipython3",
   "version": "3.9.1-final"
  },
  "orig_nbformat": 2,
  "kernelspec": {
   "name": "python391jvsc74a57bd0aee8b7b246df8f9039afb4144a1f6fd8d2ca17a180786b69acc140d282b71a49",
   "display_name": "Python 3.9.1 64-bit"
  },
  "metadata": {
   "interpreter": {
    "hash": "aee8b7b246df8f9039afb4144a1f6fd8d2ca17a180786b69acc140d282b71a49"
   }
  }
 },
 "nbformat": 4,
 "nbformat_minor": 2,
 "cells": [
  {
   "cell_type": "code",
   "execution_count": 2,
   "metadata": {},
   "outputs": [
    {
     "output_type": "stream",
     "name": "stdout",
     "text": [
      "Hello, you are at the Band Name Generator.\n",
      "Your band name is rocky woods\n"
     ]
    }
   ],
   "source": [
    "# The print statement below is used to welcome the user.\n",
    "print(\"Hello, you are at the Band Name Generator.\")\n",
    "\n",
    "# The 2 input statements are questions the user needs to answer.  These answers will provide the user with a suggested band name.\n",
    "pet = input(\"What is your first pets name?\\n\")\n",
    "destination = input(\"Would you rather live on the beach, in the woods, or in a cave?\\n\")\n",
    "\n",
    "# This print statement is using the answers associated to the varible assigned to the input statement to create the band name.  The \" \" between the variables names below are providing a space to be put between each word.\n",
    "print(\"Your band name is \" + pet + \" \" + destination)"
   ]
  },
  {
   "cell_type": "code",
   "execution_count": 6,
   "metadata": {},
   "outputs": [
    {
     "output_type": "stream",
     "name": "stdout",
     "text": [
      "Welcome Chells's tip calculator!\n",
      "Each person should pay: $60.0\n"
     ]
    }
   ],
   "source": [
    "# The print statement below is used to welcome the user.\n",
    "print(\"Welcome Chells's tip calculator!\")\n",
    "\n",
    "# Below are 3 input statements.  the first input statement is as a float since a float would be a number that includes a decimal.  The last 2 inputs are integers since the user will be putting in a round number.\n",
    "bill = float(input(\"What is the amount of the bill? $\"))\n",
    "tip = int(input(\"What percent of tip would you like to leave? 15, 18, or 20? \"))\n",
    "people = int(input(\"How many people are splitting the bill?\"))\n",
    "\n",
    "# In order to make this project to work, the tip percent will need to to be divided by 100.  Than you will multiple the tip percent to the bill total giving the tip amount.  The tip amount will then be added to the bill amount giving the total bill.   The total bill will then be divided by each person to pay. \n",
    "tip_percent = tip / 100\n",
    "tip_amount = bill * tip_percent\n",
    "total_bill = bill + tip_amount\n",
    "each_person_pay = total_bill / people\n",
    "final_bill = round(each_person_pay, 2)\n",
    "\n",
    "# This print statement infludes an f string as we are putting in the final bill amount for each person.\n",
    "print(f\"Each person should pay: ${final_bill}\")"
   ]
  },
  {
   "cell_type": "code",
   "execution_count": 3,
   "metadata": {},
   "outputs": [
    {
     "output_type": "stream",
     "name": "stdout",
     "text": [
      "Welcome to the Island.\n",
      "In order to win, you must find the treasure.\n",
      "You found the treasure! You Win!\n"
     ]
    }
   ],
   "source": [
    "# Using the print statement to welcome the player and provide instructions.\n",
    "print(\"Welcome to the Island.\")\n",
    "print(\"In order to win, you must find the treasure.\")\n",
    "\n",
    "# This input statement is starting the game.  The \\n at the end of the statement will put the players response on the next line and teh .lower after the parens will turn any capital letters to lower letters.\n",
    "pick1 = input('You are at the end of the road. Which way would you like to go? Type \"left\" or \"right\" \\n').lower()\n",
    "\n",
    "# This is where the if statments start.  If the players choice was left they would get the pick2 input statement if they chose right, they would be told they fell off a cliff.\n",
    "if pick1 == \"left\":\n",
    "  pick2 = input('You arrived at a lake with an island in the middle. Type \"wait\" to wait for a boat or type \"swim\" to swim across. \\n').lower()\n",
    "  # If they player chose to swim to the island they would loose and get the message \"you fell off the cliff\". If they waited they would move onto pick3 statament.\n",
    "  if pick2 == \"wait\":\n",
    "    pick3 = input(\"You made it to the island unscathed. There is a house with 3 doors. One is green, one is pink and one is blue. Which color do you choose? \\n\").lower()\n",
    "    # Below are the 3 doors the play can choose.  Depending on which color they choose, they will win or loose.\n",
    "    if pick3 == \"green\":\n",
    "      print(\"The room is on fire, Run!! Game Over.\")\n",
    "    elif pick3 == \"pink\":\n",
    "      print(\"You found the treasure! You Win!\")\n",
    "    elif pick3 == \"blue\":\n",
    "      print(\"You entered a room filled with BATS! Game Over.\")\n",
    "    else:\n",
    "      print(\"That\\'s not a door choice. Game Over.\")\n",
    "  else:\n",
    "    print(\"You get attacked by a piranha. Game Over.\")\n",
    "else:\n",
    "  print(\"You fell off a cliff. Game Over.\")"
   ]
  },
  {
   "cell_type": "code",
   "execution_count": 2,
   "metadata": {},
   "outputs": [
    {
     "output_type": "stream",
     "name": "stdout",
     "text": [
      "Welcome to Chelle's Password Generator!\n",
      "mPvvp)&4\n"
     ]
    }
   ],
   "source": [
    "# importing random allows the program to randomly select from a list when using random.choice.\n",
    "import random\n",
    "\n",
    "# Putting the different characters in brackets to create lists.\n",
    "letters = ['a', 'b', 'c', 'd', 'e', 'f', 'g', 'h', 'i', 'j', 'k', 'l', 'm', 'n', 'o', 'p', 'q', 'r', 's', 't', 'u', 'v', 'w', 'x', 'y', 'z', 'A', 'B', 'C', 'D', 'E', 'F', 'G', 'H', 'I', 'J', 'K', 'L', 'M', 'N', 'O', 'P', 'Q', 'R', 'S', 'T', 'U', 'V', 'W', 'X', 'Y', 'Z']\n",
    "numbers = ['0', '1', '2', '3', '4', '5', '6', '7', '8', '9']\n",
    "symbols = ['!', '#', '$', '%', '&', '(', ')', '*', '+']\n",
    "\n",
    "# Using a print statement to Welcome the user and to let them know what the program is.\n",
    "print(\"Welcome to Chelle's Password Generator!\")\n",
    "\n",
    "choice_letters = int(input(\"How many letters would you like in your password?\\n\")) \n",
    "\n",
    "# Using an f string coverts int to a string instead of an integer\n",
    "choice_symbols = int(input(f\"How many symbols would you like?\\n\"))\n",
    "choice_numbers = int(input(f\"How many numbers would you like?\\n\"))\n",
    "\n",
    "#the empty string (\"\") is the same as a zero or null value.\n",
    "password = \"\"\n",
    "\n",
    "# a for loop is used to cycle through the characters while using the random.choice. +1 is used since in programming the numbers start counting at 0 and not 1.\n",
    "for char in range(1, choice_letters + 1):\n",
    "   password += random.choice(letters)\n",
    "\n",
    "for char in range(1, choice_symbols + 1):\n",
    "    password += random.choice(symbols)\n",
    "\n",
    "for char in range(1, choice_numbers + 1):\n",
    "    password += random.choice(numbers)\n",
    "\n",
    "# The print statement is used to print the final password.\n",
    "print(password)\n"
   ]
  },
  {
   "cell_type": "code",
   "execution_count": 7,
   "metadata": {},
   "outputs": [
    {
     "output_type": "error",
     "ename": "NameError",
     "evalue": "name 'clear' is not defined",
     "traceback": [
      "\u001b[0;31m---------------------------------------------------------------------------\u001b[0m",
      "\u001b[0;31mNameError\u001b[0m                                 Traceback (most recent call last)",
      "\u001b[0;32m<ipython-input-7-44b35ab41c47>\u001b[0m in \u001b[0;36m<module>\u001b[0;34m\u001b[0m\n\u001b[1;32m     42\u001b[0m     \u001b[0mfind_highest_bidder\u001b[0m\u001b[0;34m(\u001b[0m\u001b[0mbids\u001b[0m\u001b[0;34m)\u001b[0m\u001b[0;34m\u001b[0m\u001b[0;34m\u001b[0m\u001b[0m\n\u001b[1;32m     43\u001b[0m   \u001b[0;32melif\u001b[0m \u001b[0mcontinuing\u001b[0m \u001b[0;34m==\u001b[0m \u001b[0;34m\"y\"\u001b[0m\u001b[0;34m:\u001b[0m\u001b[0;34m\u001b[0m\u001b[0;34m\u001b[0m\u001b[0m\n\u001b[0;32m---> 44\u001b[0;31m       \u001b[0mclear\u001b[0m \u001b[0;34m(\u001b[0m\u001b[0;34m)\u001b[0m\u001b[0;34m\u001b[0m\u001b[0;34m\u001b[0m\u001b[0m\n\u001b[0m",
      "\u001b[0;31mNameError\u001b[0m: name 'clear' is not defined"
     ]
    }
   ],
   "source": [
    "# Here the python library is being called, this is now allowing the clear () function to be used.\n",
    "import os\n",
    "\n",
    "bids = {}\n",
    "no_more_bids = False\n",
    "\n",
    "# This function is to find the highest bidder out of all the bids \n",
    "def find_highest_bid(bid_record):\n",
    "\n",
    "    #the highest bid is = 0.  Any other bid to come in will be higher.\n",
    "  highest_bid = 0\n",
    "  winner = \"\"\n",
    "\n",
    "  # Once all the bids are in this function will find the highest bid by compiling all in a record of all bids.\n",
    "  for bidder in bid_record:\n",
    "    bids = bid_record[bidder]\n",
    "\n",
    "    # This if statement is finding the highest bid.  if bids are greater than highest bid which is set at 0 than highest bid will = bids.\n",
    "    if bids > highest_bid: \n",
    "      highest_bid = bids\n",
    "      winner = bidder\n",
    "\n",
    "# This print statement is outside of the if loop.  It has an f string where it will allow to print both a string and integer.\n",
    "  print(f\"{winner} has the winning bid of ${highest_bid}\")\n",
    "\n",
    "# This while loop is going to run asking for names and bids until it is told there are no more bids.\n",
    "while not no_more_bids:\n",
    "\n",
    "    # with in the while loop is the first input statement asking the person for their name.\n",
    "  name = input(\"Enter your name: \")\n",
    "\n",
    "  # This is the next input statement set as and integer asking the person for their bid.\n",
    "  price = int(input(\"Enter your bid amount: $\"))\n",
    "\n",
    "  # This is stating that the persons name is = to their bid.\n",
    "  bids[name] = price\n",
    "\n",
    "# This input statement is asking the current bider if there are any other bidders.  The if loop is going to take the answer of the person and either go back to the while loop asking for the next bidder if the answer was y or if the answer is no then it will end \n",
    "  continuing = input(\"Are there any bidders left? Type 'y' for yes or 'n' for no.\\n\")\n",
    "  if continuing == \"n\":\n",
    "    bidding_finished = True\n",
    "    find_highest_bidder(bids)\n",
    "  elif continuing == \"y\":\n",
    "      clear ()\n"
   ]
  },
  {
   "cell_type": "code",
   "execution_count": 6,
   "metadata": {},
   "outputs": [],
   "source": [
    "# Imported the turtle library\n",
    "import turtle as t\n",
    "\n",
    "# Gave the turtule a variable name\n",
    "Eli_Turtle = t.Turtle()\n",
    "\n",
    "# using a for loop to get Eli turtle to make a square\n",
    "for _ in range(4):\n",
    "    Eli_Turtle.forward(100)\n",
    "    Eli_Turtle.left(90)"
   ]
  },
  {
   "cell_type": "code",
   "execution_count": null,
   "metadata": {},
   "outputs": [],
   "source": []
  }
 ]
}